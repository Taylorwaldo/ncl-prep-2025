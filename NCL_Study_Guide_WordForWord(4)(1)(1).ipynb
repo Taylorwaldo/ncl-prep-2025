{
  "metadata": {
    "kernelspec": {
      "name": "python",
      "display_name": "Python (Pyodide)",
      "language": "python"
    },
    "language_info": {
      "codemirror_mode": {
        "name": "python",
        "version": 3
      },
      "file_extension": ".py",
      "mimetype": "text/x-python",
      "name": "python",
      "nbconvert_exporter": "python",
      "pygments_lexer": "ipython3",
      "version": "3.8"
    }
  },
  "nbformat_minor": 5,
  "nbformat": 4,
  "cells": [
    {
      "id": "402f64d2",
      "cell_type": "markdown",
      "source": "# NCL (National Cyber League) Comprehensive Study Guide\n*Prepared for November 2025 Competition*\n<hr style=\"border: 2px solid orange;\">\nNot all will be checked due to timeframe and academic respondiblities that lie elsewhere\n",
      "metadata": {},
      "attachments": {}
    },
    {
      "id": "e0341cd9-b3e5-4c28-99c3-a1e1b640cb96",
      "cell_type": "markdown",
      "source": "## Quick Reference Checklist\n\n### Essential Setup\n- [ <span style=\"color:green;\">&#x2713;</span> ] Set up Kali Linux VM or ParrotOS\n- [ <span style=\"color:green;\">&#x2713;</span> ] Install Wireshark (latest version)\n- [ <span style=\"color:green;\">&#x2713;</span> ] Create accounts: TryHackMe, HackTheBox\n- [ ] Star all GitHub repositories listed below\n- [ ] Download sample PCAP files for practice\n- [ ] Set up note-taking system (Obsidian/Notion recommended)\n\n---",
      "metadata": {}
    },
    {
      "id": "19c8a2a3-a8fa-47fd-a152-272b870a9db8",
      "cell_type": "markdown",
      "source": "## **1. Open Source Intelligence (OSINT)**\n*Utilize publicly available information such as search engines, public repositories, social media, and more to gain in-depth knowledge on a topic or target.*\n\n#### YouTube Channels & Videos\n- [ ] **The Cyber Mentor** - OSINT playlist\n- [ ] **John Hammond** - OSINT challenges and walkthroughs\n- [ ] **NahamSec** - Recon and OSINT techniques\n- [ ] **SANS DFIR** - OSINT investigations\n\n#### GitHub Repositories <span style=\"color:gold;\">⭐</span>\n```bash\n# Essential OSINT Tools\njivoi/awesome-osint                 # Comprehensive OSINT resource list\nsherlock-project/sherlock          # Find usernames across social networks\nlaramies/theHarvester             # Email, subdomain and people names harvester\nsmicallef/spiderfoot              # Automated OSINT collection\nsundowndev/phoneinfoga            # Phone number investigation\nmegadose/holehe                   # Check if email is used on different sites\n```\n\n#### Online Tools to Master\n- [ ] Shodan.io - Internet-connected device search\n- [ ] Google Dorking techniques\n- [ ] Wayback Machine\n- [ <span style=\"color:green;\">&#x2713;</span> ] Have I Been Pwned (Have used)\n- [ ] Maltego Community Edition\n- [ ] Social-Searcher\n- [ <span style=\"color:green;\">&#x2713;</span> ] TinEye reverse image search\n\n#### Practice Platforms\n- [ ] **OSINT Exercises** - gralhix.com\n- [ ] **Bellingcat's Online Investigation Toolkit**\n- [ ] **Trace Labs** - Crowdsourced OSINT for good\n\n---",
      "metadata": {}
    },
    {
      "id": "bf51493c-225c-4f65-abeb-92204bac0642",
      "cell_type": "markdown",
      "source": "## **2. Cryptography**\n*Use techniques used to encrypt or obfuscate messages and leverage tools to extract the plain text.*\n\n#### YouTube Channels & Videos\n- [ ] **Christof Paar** - Introduction to Cryptography\n- [ ] **Khan Academy** - Cryptography course\n- [ ] **Computerphile** - Cryptography explanations\n- [ ] **LiveOverflow** - CTF crypto challenges\n\n#### GitHub Repositories <span style=\"color:gold;\">⭐</span>\n```bash\n# Cryptography Tools\nGanapati/RsaCtfTool              # RSA attack tool\nhellman/xortool                 # XOR cipher analysis\nmozilla/ssh_scan                # SSH configuration scanner\nRsaCtfTool/RsaCtfTool          # Automated RSA attack tool\n```\n\n#### Essential Concepts to Master\n- [ ] **Classical Ciphers**: Caesar, Vigenère, Rail Fence, Substitution\n- [ ] **Modern Cryptography**: AES, RSA, DES, 3DES\n- [ ] **Hash Functions**: MD5, SHA-1, SHA-256, bcrypt\n- [ ] **Encoding**: Base64, Base32, Hex, URL encoding\n- [ ] **Steganography**: Hidden messages in images/files\n\n#### Tools to Master\n- [ ] **CyberChef** - Online encoding/decoding Swiss knife\n- [ ] **Hashcat** - Advanced password recovery\n- [ ] **John the Ripper** - Password cracking\n- [ ] **OpenSSL** - Command-line crypto toolkit\n- [ ] **GPG** - Encryption and signing\n\n#### Practice Platforms\n- [ ] **cryptohack.org** - Modern cryptography challenges\n- [ ] **cryptopals.com** - Crypto challenges set\n- [ ] **PicoCTF** - Crypto category\n\n---",
      "metadata": {}
    },
    {
      "id": "01585ccd-3c77-4662-9895-6c38197cb3b1",
      "cell_type": "markdown",
      "source": "## **3. Log Analysis**\n*Utilize the proper tools and techniques to establish a baseline for normal operation and identify malicious activities using log files from various services.*\n\n#### YouTube Channels & Videos\n- [ ] **SANS DFIR** - Log analysis techniques\n- [ ] **Black Hills Information Security** - SIEM and log analysis\n- [ ] **The Cyber Mentor** - Blue team log analysis\n- [ ] **John Strand** - Applied Network Security Monitoring\n\n#### GitHub Repositories <span style=\"color:gold;\">⭐</span>\n```bash\n# Log Analysis Tools\nelastic/elasticsearch           # Search and analytics engine\ngraylog2/graylog2-server       # Log management platform\nossec/ossec-hids               # Host-based intrusion detection\nNeo23x0/sigma                  # Generic signature format for SIEM\n```\n\n#### Essential Skills\n- [ ] **Common Log Formats**: Apache, Nginx, Windows Event Logs, Syslog\n- [ ] **SIEM Platforms**: Splunk, ELK Stack, Graylog, QRadar\n- [ ] **Windows Event IDs**: Authentication (4624, 4625), Process creation (4688)\n- [ ] **Linux Logs**: /var/log/auth.log, /var/log/syslog, /var/log/apache2/access.log\n- [ ] **Network Logs**: Firewall logs, DNS logs, Proxy logs\n\n#### Tools to Master\n- [ ] **Splunk** (Free license available)\n- [ ] **ELK Stack** (Elasticsearch, Logstash, Kibana)\n- [ ] **Graylog** - Open source log management\n- [ ] **AWK/SED/GREP** - Command-line log parsing\n- [ ] **PowerShell** - Windows log analysis\n\n#### Practice Resources\n- [ ] **Boss of the SOC** (Splunk)\n- [ ] **CyberDefenders** - Blue team challenges\n- [ ] **LetsDefend** - SOC analyst simulator\n\n---",
      "metadata": {}
    },
    {
      "id": "386e5953-af74-4cf6-bf6f-b55c073a1e2b",
      "cell_type": "markdown",
      "source": "## <span style=\"color:red\">**4. Network Traffic Analysis**</span> ⭐ **(WIRESHARK FOCUS - Teammates mentioned that this is a weakpoint historicly)**\n## Remember don't use this on public wifi\n*Identify malicious and benign network traffic to demonstrate an understanding of potential security breaches.*\n\n#### YouTube Channels & Videos (Priority Order)\n1. [ ] **Wireshark University** - Official tutorials\n2. [ ] **Chris Sanders** - Practical packet analysis\n3. [ ] **Laura Chappell** - Wireshark expert tutorials\n\n#### GitHub Repositories <span style=\"color:gold;\">⭐</span>\n```bash\n# Network Analysis Tools\nwireshark/wireshark             # The essential tool\nSecureAuthCorp/impacket        # Network protocol implementations\nrobertdavidgraham/masscan      # Fast port scanner\nnmap/nmap                      # Network discovery and auditing\n```\n\n### <span style=\"color:red;\">❗ **WIRESHARK MASTERY ROADMAP** (Competitive Edge)</span>\n\n#### Week 1: Fundamentals\n- [ <span style=\"color:green;\">&#x2713;</span> ] Install Wireshark and capture first packet\n- [ ] Learn the Wireshark interface (Packet List, Details, Bytes)\n- [ ] Understand basic protocols: HTTP, DNS, TCP, UDP, ICMP\n- [TLS  <span style=\"color:green;\">&#x2713;</span>   ] Practice basic display filters\n\n#### Week 2: Display Filters Mastery\n```wireshark\n# Essential Display Filters to Memorize\nip.addr == 192.168.1.1          # Specific IP\ntcp.port == 80                   # HTTP traffic\nhttp.request.method == \"POST\"    # POST requests\ndns.qry.name contains \"malware\"  # DNS queries containing text\ntcp.flags.syn == 1               # TCP SYN packets\nhttp.response.code == 404        # HTTP 404 errors\n!arp and !dns                   # Exclude ARP and DNS\ntcp.stream eq 0                  # Follow specific TCP stream\n```\n\n#### Week 3: Advanced Analysis\n- [ ] **Following Streams**: TCP, UDP, HTTP, TLS\n- [ ] **Statistical Analysis**: Conversations, Endpoints, Protocol Hierarchy\n- [ ] **Exporting Objects**: Files from HTTP, SMB, TFTP\n- [ ] **Time Analysis**: Response times, connection establishment\n\n#### Week 4: Malware Traffic Analysis\n- [ ] Practice with samples from **malware-traffic-analysis.net**\n- [ ] Identify C2 communications\n- [ ] Extract IOCs (Indicators of Compromise)\n- [ ] Recognize encrypted vs. unencrypted traffic\n\n## <font color=\"green\">Essential Wireshark Skills Checklist</font>\n- [ ] **Basic Navigation**\n- [ ] Packet list navigation (Ctrl+Up/Down)\n- [ ] Time column customization\n- [ ] Column customization for efficiency\n\n- [ ] **Display Filters** (Practice until muscle memory)\n - [ ] - [ ] Logical operators (and, or, not)\n - [ ] Comparison operators (==, !=, <, >)\n - [ ] Protocol-specific filters\n - [ ] Regular expressions in filters\n\n- [ ] **Stream Following**\n - [ ] TCP streams (Right-click → Follow → TCP Stream)\n - [ ] HTTP streams for web traffic\n - [ ] TLS streams for encrypted traffic\n\n- [ ] **Statistical Analysis**\n - [ ] Statistics → Conversations\n - [ ] Statistics → Endpoints\n - [ ] Statistics → Protocol Hierarchy\n - [ ] Statistics → I/O Graphs\n\n- [ ] **File Extraction**\n - [ ] File → Export Objects → HTTP\n - [ ] Extracting malware samples\n - [ ] Extracting transferred files\n\n#### Practice PCAP Files (Download These)\n```bash\n# Essential Practice Sources\n[https://malware-traffic-analysis.net/training-exercises.html](https://malware-traffic-analysis.net/training-exercises.html)\n[https://www.tcpreplay.appneta.com/wiki/captures.html](https://www.tcpreplay.appneta.com/wiki/captures.html)\n[https://wiki.wireshark.org/SampleCaptures](https://wiki.wireshark.org/SampleCaptures)\n[https://github.com/markofu/pcaps](https://github.com/markofu/pcaps)\n```\n\n#### Wireshark Shortcuts to Memorize\n - [ ] `Ctrl + F` - Find packet\n - [ ] `Ctrl + G` - Go to packet number\n - [ ] `Ctrl + L` - Go to line\n - [ ] `F3` - Find next\n - [ ] `Ctrl + M` - Mark packet\n - [ ] `Ctrl + Shift + N` - Next marked packet\n\n---",
      "metadata": {}
    },
    {
      "id": "95f757e4-20d1-46a3-a3bf-eadaccaffc06",
      "cell_type": "markdown",
      "source": "## **5. Scanning**\n*Identify and use the proper tools to gain intelligence about a target including its services and potential vulnerabilities.*\n\n#### YouTube Channels & Videos\n - [ ] **IppSec** - Reconnaissance techniques\n - [ ] **The Cyber Mentor** - Ethical hacking course\n - [ ] **NetworkChuck** - Nmap tutorials\n - [ ] **HackerSploit** - Penetration testing basics\n\n#### GitHub Repositories <span style=\"color:gold;\">⭐</span>\n```bash\n # Scanning Tools\nnmap/nmap                       # Network discovery and security auditing\nrobertdavidgraham/masscan      # Fast port scanner\nprojectdiscovery/subfinder     # Subdomain discovery\nprojectdiscovery/httpx         # HTTP toolkit\nprojectdiscovery/nuclei        # Vulnerability scanner\nOWASP/Amass                    # Attack surface mapping\n```\n\n#### Essential Scanning Techniques\n- [ ] **Port Scanning**: TCP SYN, TCP Connect, UDP, Service detection\n- [ ] **Host Discovery**: Ping sweeps, ARP scans\n- [ ] **Service Enumeration**: Banner grabbing, version detection\n- [ ] **Vulnerability Scanning**: Automated vs. manual approaches\n- [ ] **Web Application Scanning**: Directory brute-forcing, parameter discovery\n\n#### Tools to Master\n- [ ] **Nmap** - Network mapper and port scanner\n- [ ] **Masscan** - High-speed port scanner\n- [ ] **Gobuster** - Directory/file brute-forcer\n- [ ] **Nikto** - Web server vulnerability scanner\n- [ ] **Dirb/Dirbuster** - Web content scanner\n\n---",
      "metadata": {}
    },
    {
      "id": "477082b2-eed2-4fed-992e-6f6f9c0a32aa",
      "cell_type": "markdown",
      "source": "## **6. Forensics**\n*Utilize the proper tools and techniques to analyze, process, recover, and/or investigate digital evidence in a computer-related incident.*\n\n#### YouTube Channels & Videos\n- [ ] **SANS DFIR** - Digital forensics techniques\n- [ ] **13Cubed** - Digital forensics tutorials\n- [ ] **Joe Helle** - Memory forensics\n- [ ] **The Cyber Mentor** - Digital forensics basics\n\n#### GitHub Repositories <span style=\"color:gold;\">⭐</span>\n```bash\n # Forensics Tools\nvolatilityfoundation/volatility    # Memory forensics framework\nsleuthkit/sleuthkit                # Digital forensics library\nsimsong/bulk_extractor            # Digital forensics tool\nlog2timeline/plaso                # Timeline analysis\n```\n\n#### Essential Forensics Areas\n- [ ] **Disk Forensics**: File system analysis, deleted file recovery\n- [ ] **Memory Forensics**: RAM analysis, process investigation\n- [ ] **Network Forensics**: Packet analysis, session reconstruction\n- [ ] **Mobile Forensics**: iOS/Android investigation\n- [ ] **Steganography**: Hidden data in files\n\n#### Tools to Master\n- [ ] **Autopsy** - Digital forensics platform\n- [ ] **Volatility** - Memory forensics\n- [ ] **Binwalk** - Firmware analysis\n- [ ] **Foremost** - File carving\n- [ ] **Steghide** - Steganography tool\n\n---",
      "metadata": {}
    },
    {
      "id": "a7a03df9-685d-414d-ba98-5959138c44c0",
      "cell_type": "markdown",
      "source": "## **7. Password Cracking**\n*Identify types of password hashes and apply various techniques to efficiently determine plain text passwords.*\n\n\n#### YouTube Channels & Videos\n- [ ] **The Cyber Mentor** - Password cracking techniques\n- [ ] **John Hammond** - CTF password challenges\n- [ ] **IppSec** - Hash cracking in practice\n- [ ] **NetworkChuck** - Hashcat tutorials\n\n#### GitHub Repositories <span style=\"color:gold;\">⭐</span>\n```bash\n# Password Cracking Tools\nhashcat/hashcat                   # Advanced password recovery\nopenwall/john                     # John the Ripper\nberzerk0/Probable-Wordlists      # Password wordlists\ndanielmiessler/SecLists          # Security wordlists collection\n```\n\n#### Hash Types to Recognize\n- [ ] **MD5** - 32 character hex\n- [ ] **SHA-1** - 40 character hex\n- [ ] **SHA-256** - 64 character hex\n- [ ] **NTLM** - Windows password hashes\n- [ ] **bcrypt** - Blowfish-based hashing\n- [ ] **Linux Shadow** - $6$ (SHA-512 crypt)\n\n#### Attack Methods\n- [ <span style=\"color:green;\">&#x2713;</span> ] **Dictionary Attacks** - Wordlist-based\n- [ ] **Brute Force** - Try all combinations\n- [ ] **Mask Attacks** - Pattern-based guessing\n- [ ] **Rule-based Attacks** - Transform wordlists\n- [ ] **Hybrid Attacks** - Combine methods\n\n#### Tools to Master\n- [ ] **Hashcat** - GPU-accelerated cracking\n- [ ] **John the Ripper** - CPU-based cracking\n- [ ] **CrackStation** - Online hash lookup\n- [ ] **Hash Identifier** - Identify hash types\n\n---",
      "metadata": {}
    },
    {
      "id": "eaa61adf-a09b-4eed-87ca-366c7a8f42c4",
      "cell_type": "markdown",
      "source": "## **8. Enumeration and Exploitation**\n*Identify actionable exploits and vulnerabilities and use them to bypass the security measures in code and compiled binaries.*\n\n#### YouTube Channels & Videos\n- [ ] **IppSec** - HackTheBox walkthroughs\n- [ ] **The Cyber Mentor** - Practical ethical hacking\n- [ ] **John Hammond** - CTF exploitation techniques\n- [ ] **LiveOverflow** - Binary exploitation\n\n#### GitHub Repositories <span style=\"color:gold;\">⭐</span>\n```bash\n# Exploitation Frameworks\nrapid7/metasploit-framework       # Exploitation framework\nsqlmapproject/sqlmap             # SQL injection tool\nSecureAuthCorp/impacket          # Network protocol attacks\nrebootuser/LinEnum               # Linux enumeration\nPowerShellMafia/PowerSploit      # PowerShell exploitation\n```\n\n#### Vulnerability Categories\n- [ ] **Web Applications**: SQLi, XSS, CSRF, RFI/LFI\n- [ ] **Network Services**: SMB, SSH, FTP, Telnet\n- [ ] **Buffer Overflows**: Stack and heap-based\n- [ ] **Privilege Escalation**: Local and remote\n- [ ] **Binary Exploitation**: Format strings, ROP chains\n\n#### Essential Exploits to Understand\n- [ ] **EternalBlue** (MS17-010)\n- [ ] **Shellshock** (CVE-2014-6271)\n- [ ] **Heartbleed** (CVE-2014-0160)\n- [ ] **Log4Shell** (CVE-2021-44228)\n\n---",
      "metadata": {}
    },
    {
      "id": "e5ba913c-7481-4e13-85a2-3e92ec6c54c2",
      "cell_type": "markdown",
      "source": "## **9. Web Application Security**\n*Identify actionable exploits and vulnerabilities and use them to bypass the security measures in online services.*\n\n#### YouTube Channels & Videos\n- [ ] **PortSwigger Web Security** - Burp Suite tutorials\n- [ ] **PwnFunction** - Web security concepts\n- [ ] **The Cyber Mentor** - Web app penetration testing\n- [ ] **STÖK** - Bug bounty and web hacking\n- [ ] **NahamSec** - Web application security\n\n#### GitHub Repositories <span style=\"color:gold;\">⭐</span>\n```bash\n# Web Security Tools\nsqlmapproject/sqlmap             # SQL injection automation\nportswigger/backslash-powered-scanner  # Burp extensions\nswisskyrepo/PayloadsAllTheThings # Web attack payloads\ndanielmiessler/SecLists          # Web fuzzing wordlists\n```\n\n#### OWASP Top 10 (2021) - Master These\n1. [ ] **A01: Broken Access Control**\n2. [ ] **A02: Cryptographic Failures**\n3. [ ] **A03: Injection** (SQL, NoSQL, LDAP, OS command)\n4. [ ] **A04: Insecure Design**\n5. [ ] **A05: Security Misconfiguration**\n6. [ ] **A06: Vulnerable and Outdated Components**\n7. [ ] **A07: Identification and Authentication Failures**\n8. [ ] **A08: Software and Data Integrity Failures**\n9. [ ] **A09: Security Logging and Monitoring Failures**\n10. [ ] **A10: Server-Side Request Forgery (SSRF)**\n ",
      "metadata": {}
    },
    {
      "id": "fcff0839-ccee-4a90-80a9-3053d86626d5",
      "cell_type": "markdown",
      "source": "<hr style=\"border: 2px solid orange;\">\n#\n# *Remember: <span style=\"color:#28a745;\">Focus extra time on Wireshark since that's the identified competitive advantage.</span>*\n\n",
      "metadata": {}
    },
    {
      "id": "3172cd0f-2a36-4a44-be7b-80d9238ab866",
      "cell_type": "markdown",
      "source": "",
      "metadata": {}
    }
  ]
}