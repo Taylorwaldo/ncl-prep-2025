{
  "metadata": {
    "kernelspec": {
      "name": "python",
      "display_name": "Python (Pyodide)",
      "language": "python"
    },
    "language_info": {
      "codemirror_mode": {
        "name": "python",
        "version": 3
      },
      "file_extension": ".py",
      "mimetype": "text/x-python",
      "name": "python",
      "nbconvert_exporter": "python",
      "pygments_lexer": "ipython3",
      "version": "3.8"
    }
  },
  "nbformat_minor": 5,
  "nbformat": 4,
  "cells": [
    {
      "id": "402f64d2",
      "cell_type": "markdown",
      "source": "# # NCL (National Cyber League) Comprehensive Study Guide\n# *Prepared for November 2025 Competition*\n#\n# Not all will be checked due to timeframe and academic respondiblities that lie elsewhere\n#\n# ---\n#\n# ![NCL Categories](image/Screenshot 2025-09-12 at 12-48-03 Competition.png)",
      "metadata": {}
    },
    {
      "id": "a9052c1e-10b6-4dee-8069-baa9c166ba97",
      "cell_type": "code",
      "source": "# ## Quick Reference Checklist\n#\n# ### Essential Setup\n# - [ ✓] Set up Kali Linux VM or ParrotOS\n# - [ ] Install Wireshark (latest version)\n# - [✓ ] Create accounts: TryHackMe, HackTheBox\n# - [ ] Star all GitHub repositories listed below\n# - [ ] Download sample PCAP files for practice\n# - [ ] Set up note-taking system (Obsidian/Notion recommended)\n#\n# ---",
      "metadata": {
        "trusted": true
      },
      "outputs": [],
      "execution_count": null
    },
    {
      "id": "03f533d1-213f-4c7e-86d8-7a73d36aae18",
      "cell_type": "code",
      "source": "# ## **1. Open Source Intelligence (OSINT)**\n# *Utilize publicly available information such as search engines, public repositories, social media, and more to gain in-depth knowledge on a topic or target.*\n#\n# #### YouTube Channels & Videos\n# - [ ] **The Cyber Mentor** - OSINT playlist\n# - [ ] **John Hammond** - OSINT challenges and walkthroughs\n# - [ ] **NahamSec** - Recon and OSINT techniques\n# - [ ] **SANS DFIR** - OSINT investigations\n#\n# #### GitHub Repositories ⭐\n# ```bash\n# # Essential OSINT Tools\n# jivoi/awesome-osint                 # Comprehensive OSINT resource list\n# sherlock-project/sherlock          # Find usernames across social networks\n# laramies/theHarvester             # Email, subdomain and people names harvester\n# smicallef/spiderfoot              # Automated OSINT collection\n# sundowndev/phoneinfoga            # Phone number investigation\n# megadose/holehe                   # Check if email is used on different sites\n# ```\n#\n# #### Online Tools to Master\n# - [ ] Shodan.io - Internet-connected device search\n# - [ ] Google Dorking techniques\n# - [ ] Wayback Machine\n# - [✓] Have I Been Pwned (Have used)\n# - [ ] Maltego Community Edition\n# - [ ] Social-Searcher\n# - [✓] TinEye reverse image search\n#\n# #### Practice Platforms\n# - [ ] **OSINT Exercises** - gralhix.com\n# - [ ] **Bellingcat's Online Investigation Toolkit**\n# - [ ] **Trace Labs** - Crowdsourced OSINT for good\n#\n# ---",
      "metadata": {
        "trusted": true
      },
      "outputs": [],
      "execution_count": null
    },
    {
      "id": "ae4de403-a643-4f55-9295-acd482f9220c",
      "cell_type": "code",
      "source": "# ## **2. Cryptography**\n# *Use techniques used to encrypt or obfuscate messages and leverage tools to extract the plain text.*\n#\n# #### YouTube Channels & Videos\n# - [ ] **Christof Paar** - Introduction to Cryptography\n# - [ ] **Khan Academy** - Cryptography course\n# - [ ] **Computerphile** - Cryptography explanations\n# - [ ] **LiveOverflow** - CTF crypto challenges\n#\n# #### GitHub Repositories ⭐\n# ```bash\n# # Cryptography Tools\n# Ganapati/RsaCtfTool              # RSA attack tool\n# hellman/xortool                 # XOR cipher analysis\n# mozilla/ssh_scan                # SSH configuration scanner\n# RsaCtfTool/RsaCtfTool          # Automated RSA attack tool\n# ```\n#\n# #### Essential Concepts to Master\n# - [ ] **Classical Ciphers**: Caesar, Vigenère, Rail Fence, Substitution\n# - [ ] **Modern Cryptography**: AES, RSA, DES, 3DES\n# - [ ] **Hash Functions**: MD5, SHA-1, SHA-256, bcrypt\n# - [ ] **Encoding**: Base64, Base32, Hex, URL encoding\n# - [ ] **Steganography**: Hidden messages in images/files\n#\n# #### Tools to Master\n# - [ ] **CyberChef** - Online encoding/decoding Swiss knife\n# - [ ] **Hashcat** - Advanced password recovery\n# - [ ] **John the Ripper** - Password cracking\n# - [ ] **OpenSSL** - Command-line crypto toolkit\n# - [ ] **GPG** - Encryption and signing\n#\n# #### Practice Platforms\n# - [ ] **cryptohack.org** - Modern cryptography challenges\n# - [ ] **cryptopals.com** - Crypto challenges set\n# - [ ] **PicoCTF** - Crypto category\n#\n# ---",
      "metadata": {
        "trusted": true
      },
      "outputs": [],
      "execution_count": null
    },
    {
      "id": "08a9f401-863d-44c0-ac31-e525905b52f0",
      "cell_type": "code",
      "source": "# ## **3. Log Analysis**\n# *Utilize the proper tools and techniques to establish a baseline for normal operation and identify malicious activities using log files from various services.*\n#\n# #### YouTube Channels & Videos\n# - [ ] **SANS DFIR** - Log analysis techniques\n# - [ ] **Black Hills Information Security** - SIEM and log analysis\n# - [ ] **The Cyber Mentor** - Blue team log analysis\n# - [ ] **John Strand** - Applied Network Security Monitoring\n#\n# #### GitHub Repositories ⭐\n# ```bash\n# # Log Analysis Tools\n# elastic/elasticsearch           # Search and analytics engine\n# graylog2/graylog2-server       # Log management platform\n# ossec/ossec-hids               # Host-based intrusion detection\n# Neo23x0/sigma                  # Generic signature format for SIEM\n# ```\n#\n# #### Essential Skills\n# - [ ] **Common Log Formats**: Apache, Nginx, Windows Event Logs, Syslog\n# - [ ] **SIEM Platforms**: Splunk, ELK Stack, Graylog, QRadar\n# - [ ] **Windows Event IDs**: Authentication (4624, 4625), Process creation (4688)\n# - [ ] **Linux Logs**: /var/log/auth.log, /var/log/syslog, /var/log/apache2/access.log\n# - [ ] **Network Logs**: Firewall logs, DNS logs, Proxy logs\n#\n# #### Tools to Master\n# - [ ] **Splunk** (Free license available)\n# - [ ] **ELK Stack** (Elasticsearch, Logstash, Kibana)\n# - [ ] **Graylog** - Open source log management\n# - [ ] **AWK/SED/GREP** - Command-line log parsing\n# - [ ] **PowerShell** - Windows log analysis\n#\n# #### Practice Resources\n# - [ ] **Boss of the SOC** (Splunk)\n# - [ ] **CyberDefenders** - Blue team challenges\n# - [ ] **LetsDefend** - SOC analyst simulator\n#\n# ---",
      "metadata": {
        "trusted": true
      },
      "outputs": [],
      "execution_count": null
    },
    {
      "id": "a6c11118-29df-473e-8ee6-77beb743cd3c",
      "cell_type": "code",
      "source": "# ## **4. Network Traffic Analysis** ⭐ **(WIRESHARK FOCUS - Teammates mentioned that this is a weakpoint historicly)**\n# ## Remember don't use this on public wifi\n# *Identify malicious and benign network traffic to demonstrate an understanding of potential security breaches.*\n#\n# #### YouTube Channels & Videos (Priority Order)\n# 1. [ ] **Wireshark University** - Official tutorials\n# 2. [ ] **Chris Sanders** - Practical packet analysis\n# 3. [ ] **Laura Chappell** - Wireshark expert tutorials\n#\n# #### GitHub Repositories ⭐\n# ```bash\n# # Network Analysis Tools\n# wireshark/wireshark             # The essential tool\n# SecureAuthCorp/impacket        # Network protocol implementations\n# robertdavidgraham/masscan      # Fast port scanner\n# nmap/nmap                      # Network discovery and auditing\n# ```\n#\n# ### ❗ **WIRESHARK MASTERY ROADMAP** (Competitive Edge)\n#\n# #### Week 1: Fundamentals\n# - [ ] Install Wireshark and capture first packet\n# - [ ] Learn the Wireshark interface (Packet List, Details, Bytes)\n# - [ ] Understand basic protocols: HTTP, DNS, TCP, UDP, ICMP\n# - [ ] Practice basic display filters\n#\n# #### Week 2: Display Filters Mastery\n# ```wireshark\n# # Essential Display Filters to Memorize\n# ip.addr == 192.168.1.1          # Specific IP\n# tcp.port == 80                   # HTTP traffic\n# http.request.method == \"POST\"    # POST requests\n# dns.qry.name contains \"malware\"  # DNS queries containing text\n# tcp.flags.syn == 1               # TCP SYN packets\n# http.response.code == 404        # HTTP 404 errors\n# !arp and !dns                   # Exclude ARP and DNS\n# tcp.stream eq 0                  # Follow specific TCP stream\n# ```\n#\n# #### Week 3: Advanced Analysis\n# - [ ] **Following Streams**: TCP, UDP, HTTP, TLS\n# - [ ] **Statistical Analysis**: Conversations, Endpoints, Protocol Hierarchy\n# - [ ] **Exporting Objects**: Files from HTTP, SMB, TFTP\n# - [ ] **Time Analysis**: Response times, connection establishment\n#\n# #### Week 4: Malware Traffic Analysis\n# - [ ] Practice with samples from **malware-traffic-analysis.net**\n# - [ ] Identify C2 communications\n# - [ ] Extract IOCs (Indicators of Compromise)\n# - [ ] Recognize encrypted vs. unencrypted traffic\n#\n# #### Essential Wireshark Skills Checklist\n# - [ ] **Basic Navigation**\n#   - [ ] Packet list navigation (Ctrl+Up/Down)\n#   - [ ] Time column customization\n#   - [ ] Column customization for efficiency\n#\n# - [ ] **Display Filters** (Practice until muscle memory)\n#   - [ ] Logical operators (and, or, not)\n#   - [ ] Comparison operators (==, !=, <, >)\n#   - [ ] Protocol-specific filters\n#   - [ ] Regular expressions in filters\n#\n# - [ ] **Stream Following**\n#   - [ ] TCP streams (Right-click → Follow → TCP Stream)\n#   - [ ] HTTP streams for web traffic\n#   - [ ] TLS streams for encrypted traffic\n#\n# - [ ] **Statistical Analysis**\n#   - [ ] Statistics → Conversations\n#   - [ ] Statistics → Endpoints\n#   - [ ] Statistics → Protocol Hierarchy\n#   - [ ] Statistics → I/O Graphs\n#\n# - [ ] **File Extraction**\n#   - [ ] File → Export Objects → HTTP\n#   - [ ] Extracting malware samples\n#   - [ ] Extracting transferred files\n#\n# #### Practice PCAP Files (Download These)\n# ```bash\n# # Essential Practice Sources\n# [https://malware-traffic-analysis.net/training-exercises.html](https://malware-traffic-analysis.net/training-exercises.html)\n# [https://www.tcpreplay.appneta.com/wiki/captures.html](https://www.tcpreplay.appneta.com/wiki/captures.html)\n# [https://wiki.wireshark.org/SampleCaptures](https://wiki.wireshark.org/SampleCaptures)\n# [https://github.com/markofu/pcaps](https://github.com/markofu/pcaps)\n# ```\n#\n# #### Wireshark Shortcuts to Memorize\n# - [ ] `Ctrl + F` - Find packet\n# - [ ] `Ctrl + G` - Go to packet number\n# - [ ] `Ctrl + L` - Go to line\n# - [ ] `F3` - Find next\n# - [ ] `Ctrl + M` - Mark packet\n# - [ ] `Ctrl + Shift + N` - Next marked packet\n#\n# ---\n",
      "metadata": {
        "trusted": true
      },
      "outputs": [],
      "execution_count": null
    },
    {
      "id": "13361204-fbf4-46da-8734-e3df10defccd",
      "cell_type": "code",
      "source": "# ## **5. Scanning**\n# *Identify and use the proper tools to gain intelligence about a target including its services and potential vulnerabilities.*\n#\n# #### YouTube Channels & Videos\n# - [ ] **IppSec** - Reconnaissance techniques\n# - [ ] **The Cyber Mentor** - Ethical hacking course\n# - [ ] **NetworkChuck** - Nmap tutorials\n# - [ ] **HackerSploit** - Penetration testing basics\n#\n# #### GitHub Repositories ⭐\n# ```bash\n# # Scanning Tools\n# nmap/nmap                       # Network discovery and security auditing\n# robertdavidgraham/masscan      # Fast port scanner\n# projectdiscovery/subfinder     # Subdomain discovery\n# projectdiscovery/httpx         # HTTP toolkit\n# projectdiscovery/nuclei        # Vulnerability scanner\n# OWASP/Amass                    # Attack surface mapping\n# ```\n#\n# #### Essential Scanning Techniques\n# - [ ] **Port Scanning**: TCP SYN, TCP Connect, UDP, Service detection\n# - [ ] **Host Discovery**: Ping sweeps, ARP scans\n# - [ ] **Service Enumeration**: Banner grabbing, version detection\n# - [ ] **Vulnerability Scanning**: Automated vs. manual approaches\n# - [ ] **Web Application Scanning**: Directory brute-forcing, parameter discovery\n#\n# #### Tools to Master\n# - [ ] **Nmap** - Network mapper and port scanner\n# - [ ] **Masscan** - High-speed port scanner\n# - [ ] **Gobuster** - Directory/file brute-forcer\n# - [ ] **Nikto** - Web server vulnerability scanner\n# - [ ] **Dirb/Dirbuster** - Web content scanner\n#\n# ---",
      "metadata": {
        "trusted": true
      },
      "outputs": [],
      "execution_count": null
    },
    {
      "id": "d2e3bc7e-c21d-44f2-86c1-8b1fa51b389e",
      "cell_type": "code",
      "source": "# ## **6. Forensics**\n# *Utilize the proper tools and techniques to analyze, process, recover, and/or investigate digital evidence in a computer-related incident.*\n#\n# #### YouTube Channels & Videos\n# - [ ] **SANS DFIR** - Digital forensics techniques\n# - [ ] **13Cubed** - Digital forensics tutorials\n# - [ ] **Joe Helle** - Memory forensics\n# - [ ] **The Cyber Mentor** - Digital forensics basics\n#\n# #### GitHub Repositories ⭐\n# ```bash\n# # Forensics Tools\n# volatilityfoundation/volatility    # Memory forensics framework\n# sleuthkit/sleuthkit                # Digital forensics library\n# simsong/bulk_extractor            # Digital forensics tool\n# log2timeline/plaso                # Timeline analysis\n# ```\n#\n# #### Essential Forensics Areas\n# - [ ] **Disk Forensics**: File system analysis, deleted file recovery\n# - [ ] **Memory Forensics**: RAM analysis, process investigation\n# - [ ] **Network Forensics**: Packet analysis, session reconstruction\n# - [ ] **Mobile Forensics**: iOS/Android investigation\n# - [ ] **Steganography**: Hidden data in files\n#\n# #### Tools to Master\n# - [ ] **Autopsy** - Digital forensics platform\n# - [ ] **Volatility** - Memory forensics\n# - [ ] **Binwalk** - Firmware analysis\n# - [ ] **Foremost** - File carving\n# - [ ] **Steghide** - Steganography tool\n#\n# ---",
      "metadata": {
        "trusted": true
      },
      "outputs": [],
      "execution_count": null
    },
    {
      "id": "58c1bebd-27c5-4a94-87f9-b5950ff85ba0",
      "cell_type": "code",
      "source": "# ## **7. Password Cracking**\n# *Identify types of password hashes and apply various techniques to efficiently determine plain text passwords.*\n#\n#\n# #### YouTube Channels & Videos\n# - [ ] **The Cyber Mentor** - Password cracking techniques\n# - [ ] **John Hammond** - CTF password challenges\n# - [ ] **IppSec** - Hash cracking in practice\n# - [ ] **NetworkChuck** - Hashcat tutorials\n#\n# #### GitHub Repositories ⭐\n# ```bash\n# # Password Cracking Tools\n# hashcat/hashcat                   # Advanced password recovery\n# openwall/john                     # John the Ripper\n# berzerk0/Probable-Wordlists      # Password wordlists\n# danielmiessler/SecLists          # Security wordlists collection\n# ```\n#\n# #### Hash Types to Recognize\n# - [ ] **MD5** - 32 character hex\n# - [ ] **SHA-1** - 40 character hex\n# - [ ] **SHA-256** - 64 character hex\n# - [ ] **NTLM** - Windows password hashes\n# - [ ] **bcrypt** - Blowfish-based hashing\n# - [ ] **Linux Shadow** - $6$ (SHA-512 crypt)\n#\n# #### Attack Methods\n# - [✓] **Dictionary Attacks** - Wordlist-based\n# - [ ] **Brute Force** - Try all combinations\n# - [ ] **Mask Attacks** - Pattern-based guessing\n# - [ ] **Rule-based Attacks** - Transform wordlists\n# - [ ] **Hybrid Attacks** - Combine methods\n#\n# #### Tools to Master\n# - [ ] **Hashcat** - GPU-accelerated cracking\n# - [ ] **John the Ripper** - CPU-based cracking\n# - [ ] **CrackStation** - Online hash lookup\n# - [ ] **Hash Identifier** - Identify hash types\n#\n# ---",
      "metadata": {
        "trusted": true
      },
      "outputs": [],
      "execution_count": null
    },
    {
      "id": "532459a8-8dff-4d81-9a5b-978e272a2566",
      "cell_type": "code",
      "source": "# ## **8. Enumeration and Exploitation**\n# *Identify actionable exploits and vulnerabilities and use them to bypass the security measures in code and compiled binaries.*\n#\n# #### YouTube Channels & Videos\n# - [ ] **IppSec** - HackTheBox walkthroughs\n# - [ ] **The Cyber Mentor** - Practical ethical hacking\n# - [ ] **John Hammond** - CTF exploitation techniques\n# - [ ] **LiveOverflow** - Binary exploitation\n#\n# #### GitHub Repositories ⭐\n# ```bash\n# # Exploitation Frameworks\n# rapid7/metasploit-framework       # Exploitation framework\n# sqlmapproject/sqlmap             # SQL injection tool\n# SecureAuthCorp/impacket          # Network protocol attacks\n# rebootuser/LinEnum               # Linux enumeration\n# PowerShellMafia/PowerSploit      # PowerShell exploitation\n# ```\n#\n# #### Vulnerability Categories\n# - [ ] **Web Applications**: SQLi, XSS, CSRF, RFI/LFI\n# - [ ] **Network Services**: SMB, SSH, FTP, Telnet\n# - [ ] **Buffer Overflows**: Stack and heap-based\n# - [ ] **Privilege Escalation**: Local and remote\n# - [ ] **Binary Exploitation**: Format strings, ROP chains\n#\n# #### Essential Exploits to Understand\n# - [ ] **EternalBlue** (MS17-010)\n# - [ ] **Shellshock** (CVE-2014-6271)\n# - [ ] **Heartbleed** (CVE-2014-0160)\n# - [ ] **Log4Shell** (CVE-2021-44228)\n#\n# ---",
      "metadata": {
        "trusted": true
      },
      "outputs": [],
      "execution_count": null
    },
    {
      "id": "7dd542e9-f012-4348-a583-b7afc1697a4c",
      "cell_type": "code",
      "source": "# ## **9. Web Application Security**\n# *Identify actionable exploits and vulnerabilities and use them to bypass the security measures in online services.*\n#\n# #### YouTube Channels & Videos\n# - [ ] **PortSwigger Web Security** - Burp Suite tutorials\n# - [ ] **PwnFunction** - Web security concepts\n# - [ ] **The Cyber Mentor** - Web app penetration testing\n# - [ ] **STÖK** - Bug bounty and web hacking\n# - [ ] **NahamSec** - Web application security\n#\n# #### GitHub Repositories ⭐\n# ```bash\n# # Web Security Tools\n# sqlmapproject/sqlmap             # SQL injection automation\n# portswigger/backslash-powered-scanner  # Burp extensions\n# swisskyrepo/PayloadsAllTheThings # Web attack payloads\n# danielmiessler/SecLists          # Web fuzzing wordlists\n# ```\n#\n# #### OWASP Top 10 (2021) - Master These\n# 1. [ ] **A01: Broken Access Control**\n# 2. [ ] **A02: Cryptographic Failures**\n# 3. [ ] **A03: Injection** (SQL, NoSQL, LDAP, OS command)\n# 4. [ ] **A04: Insecure Design**\n# 5. [ ] **A05: Security Misconfiguration**\n# 6. [ ] **A06: Vulnerable and Outdated Components**\n# 7. [ ] **A07: Identification and Authentication Failures**\n# 8. [ ] **A08: Software and Data Integrity Failures**\n# 9. [ ] **A09: Security Logging and Monitoring Failures**\n# 10. [ ] **A10: Server-Side Request Forgery (SSRF)**\n#\n# #### Essential Web Attacks\n# - [ ] **SQL Injection**: Union-based, Boolean-based, Time-based\n# - [ ] **Cross-Site Scripting (XSS)**: Stored, Reflected, DOM-based\n# - [ ] **Cross-Site Request Forgery (CSRF)**\n# - [ ] **Local/Remote File Inclusion (LFI/RFI)**\n# - [ ] **Server-Side Template Injection (SSTI)**\n# - [ ] **XML External Entity (XXE)**\n# - [ ] **Insecure Direct Object Reference (IDOR)**\n#\n# #### Tools to Master\n# - [ ] **Burp Suite** - Web vulnerability scanner\n# - [ ] **OWASP ZAP** - Open source web app scanner\n# - [ ] **SQLmap** - Automated SQL injection\n# - [ ] **Gobuster** - Directory and file brute-forcer\n# - [ ] **Nikto** - Web server vulnerability scanner\n#\n# #### Practice Platforms\n# - [ ] **PortSwigger Web Security Academy** ⭐ *Best resource*\n# - [ ] **DVWA** (Damn Vulnerable Web Application)\n# - [ ] **WebGoat** - OWASP learning platform\n# - [ ] **HackTheBox** - Web application challenges\n# - [ ] **TryHackMe** - Web fundamentals path\n#\n# ---\n",
      "metadata": {
        "trusted": true
      },
      "outputs": [],
      "execution_count": null
    },
    {
      "id": "d01a67bc-7ae4-4eaa-ad1f-7a2e6c76416b",
      "cell_type": "code",
      "source": "",
      "metadata": {
        "trusted": true
      },
      "outputs": [],
      "execution_count": null
    }
  ]
}