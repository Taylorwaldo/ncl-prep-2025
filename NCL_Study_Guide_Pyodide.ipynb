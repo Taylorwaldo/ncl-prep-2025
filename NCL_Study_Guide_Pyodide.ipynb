{
  "nbformat": 4,
  "nbformat_minor": 5,
  "metadata": {
    "kernelspec": {
      "name": "python3",
      "display_name": "Python 3 (Pyodide)",
      "language": "python"
    },
    "language_info": {
      "name": "python",
      "version": "3.x"
    },
    "created": "2025-09-12T17:33:42.361441Z",
    "title": "NCL (National Cyber League) Comprehensive Study Guide \u2014 Pyodide Notebook"
  },
  "cells": [
    {
      "cell_type": "markdown",
      "metadata": {},
      "source": [
        "# NCL (National Cyber League) \u2014 Compact Study Notebook\n",
        "*Prepared for the November 2025 competition*\n\n",
        "_Note: Not every item will be completed \u2014 balance this with classes and other commitments._"
      ]
    },
    {
      "cell_type": "markdown",
      "metadata": {},
      "source": [
        "![NCL Categories](NCL_Competition.png)\n"
      ]
    },
    {
      "cell_type": "markdown",
      "metadata": {},
      "source": [
        "## Quick Reference Checklist\n\n",
        "### Essential Setup\n",
        "- [ ] Create a Kali Linux or ParrotOS VM\n",
        "- [ ] Install Wireshark (latest)\n",
        "- [ ] Create accounts on TryHackMe and HackTheBox\n",
        "- [ ] Star the GitHub repositories listed in this guide\n",
        "- [ ] Download sample PCAPs for practice\n",
        "- [ ] Set up a notes system (Obsidian or Notion recommended)\n"
      ]
    },
    {
      "cell_type": "markdown",
      "metadata": {},
      "source": [
        "---\n",
        "## 1) Open Source Intelligence (OSINT)\n",
        "Use public sources \u2014 search engines, social media, archives, and public repos \u2014 to gather context and leads.\n"
      ]
    },
    {
      "cell_type": "markdown",
      "metadata": {},
      "source": [
        "### Channels / Videos to Watch\n",
        "- The Cyber Mentor (OSINT playlists)\n",
        "- John Hammond (walkthroughs)\n",
        "- NahamSec (recon techniques)\n",
        "- SANS DFIR (investigations)\n"
      ]
    },
    {
      "cell_type": "markdown",
      "metadata": {},
      "source": [
        "### Helpful GitHub Projects\n",
        "```\n",
        "jivoi/awesome-osint\n",
        "sherlock-project/sherlock\n",
        "laramies/theHarvester\n",
        "smicallef/spiderfoot\n",
        "sundowndev/phoneinfoga\n",
        "megadose/holehe\n",
        "```\n"
      ]
    },
    {
      "cell_type": "markdown",
      "metadata": {},
      "source": [
        "### Online Tools\n",
        "- Shodan.io\n",
        "- Google Dorking\n",
        "- Wayback Machine\n",
        "- Maltego (Community)\n",
        "- Social-Searcher\n",
        "- \"Have I Been Pwned\" and TinEye for quick lookups\n"
      ]
    },
    {
      "cell_type": "markdown",
      "metadata": {},
      "source": [
        "### Practice Platforms\n",
        "- OSINT Exercises\n",
        "- Bellingcat investigation toolkit\n",
        "- Trace Labs (crowdsourced exercises)\n"
      ]
    },
    {
      "cell_type": "markdown",
      "metadata": {},
      "source": [
        "---\n",
        "## 2) Cryptography\n",
        "Study classical and modern ciphers, hashing, encoding, and steganography.\n"
      ]
    },
    {
      "cell_type": "markdown",
      "metadata": {},
      "source": [
        "### Watch\n",
        "- Christof Paar (crypto lectures)\n",
        "- Khan Academy (crypto basics)\n",
        "- Computerphile (short explainer videos)\n",
        "- LiveOverflow (CTF crypto)\n"
      ]
    },
    {
      "cell_type": "markdown",
      "metadata": {},
      "source": [
        "### Repositories to Bookmark\n",
        "```\n",
        "Ganapati/RsaCtfTool\n",
        "hellman/xortool\n",
        "mozilla/ssh_scan\n",
        "```\n"
      ]
    },
    {
      "cell_type": "markdown",
      "metadata": {},
      "source": [
        "### Core Topics\n",
        "- Classical ciphers (Caesar, Vigen\u00e8re, etc.)\n",
        "- Modern crypto (AES, RSA)\n",
        "- Hashes (MD5, SHA family, bcrypt)\n",
        "- Encoding: Base64, Base32, Hex\n",
        "- Steganography basics\n"
      ]
    },
    {
      "cell_type": "markdown",
      "metadata": {},
      "source": [
        "### Tools & Practice\n",
        "- CyberChef, Hashcat, John the Ripper, OpenSSL, GPG\n",
        "- Practice: cryptohack.org, cryptopals.com, PicoCTF\n"
      ]
    },
    {
      "cell_type": "markdown",
      "metadata": {},
      "source": [
        "---\n",
        "## 3) Log Analysis\n",
        "Learn formats, SIEM basics, and common Windows/Linux event sources.\n"
      ]
    },
    {
      "cell_type": "markdown",
      "metadata": {},
      "source": [
        "### Key Skills\n",
        "- Apache/Nginx logs, Windows Event Logs, Syslog\n",
        "- SIEM platforms: Splunk, ELK, Graylog\n",
        "- Windows event IDs: 4624, 4625, 4688, etc.\n",
        "- Command-line parsing (awk, sed, grep) and PowerShell\n"
      ]
    },
    {
      "cell_type": "markdown",
      "metadata": {},
      "source": [
        "### Tools & Resources\n",
        "- Elasticsearch / Kibana / Logstash\n",
        "- Graylog, OSSEC, Sigma rules\n",
        "- Practice: Boss of the SOC, CyberDefenders, LetsDefend\n"
      ]
    },
    {
      "cell_type": "markdown",
      "metadata": {},
      "source": [
        "---\n",
        "## 4) Network Traffic Analysis (Wireshark focus)\n",
        "_Note: avoid packet captures on public Wi\u2011Fi._\n\n",
        "Wireshark is a competitive edge \u2014 prioritize mastering it."
      ]
    },
    {
      "cell_type": "markdown",
      "metadata": {},
      "source": [
        "### Prioritized Video Resources\n",
        "1. Wireshark University\n",
        "2. Chris Sanders (packet analysis)\n",
        "3. Laura Chappell (Wireshark expert)\n"
      ]
    },
    {
      "cell_type": "markdown",
      "metadata": {},
      "source": [
        "### Wireshark Roadmap (4 weeks)\n",
        "- Week 1: Install and learn interface and basic protocols (HTTP, DNS, TCP/UDP)\n",
        "- Week 2: Master display filters and following streams\n",
        "- Week 3: Statistical analysis and object extraction\n",
        "- Week 4: Malware traffic, C2 identification, extracting IOCs\n"
      ]
    },
    {
      "cell_type": "markdown",
      "metadata": {},
      "source": [
        "### Essential Display Filters (memorize)\n",
        "```\n",
        "ip.addr == 192.168.1.1\n",
        "tcp.port == 80\n",
        "http.request.method == \"POST\"\n",
        "dns.qry.name contains \"malware\"\n",
        "tcp.flags.syn == 1\n",
        "tcp.stream eq 0\n",
        "```\n"
      ]
    },
    {
      "cell_type": "markdown",
      "metadata": {},
      "source": [
        "### Practice PCAP Sources\n",
        "- malware-traffic-analysis.net\n",
        "- tcpreplay sample captures\n",
        "- Wireshark sample captures (wiki)\n",
        "- markofu/pcaps on GitHub\n"
      ]
    },
    {
      "cell_type": "markdown",
      "metadata": {},
      "source": [
        "---\n",
        "## 5) Scanning\n",
        "Network discovery, service/version enumeration, and vulnerability scanning techniques.\n"
      ]
    },
    {
      "cell_type": "markdown",
      "metadata": {},
      "source": [
        "### Tools to Know\n",
        "- Nmap, Masscan, Gobuster, Nikto, Dirb\n",
        "- ProjectDiscovery tools: subfinder, httpx, nuclei\n",
        "- OWASP Amass for attack-surface mapping\n"
      ]
    },
    {
      "cell_type": "markdown",
      "metadata": {},
      "source": [
        "### Techniques\n",
        "- Port scanning (SYN, connect, UDP)\n",
        "- Host discovery (ARP, ping sweeps)\n",
        "- Banner grabbing and service enumeration\n",
        "- Automated vs manual vulnerability assessment\n"
      ]
    },
    {
      "cell_type": "markdown",
      "metadata": {},
      "source": [
        "---\n",
        "## 6) Forensics\n",
        "Disk, memory, network, and mobile forensics fundamentals and tools.\n"
      ]
    },
    {
      "cell_type": "markdown",
      "metadata": {},
      "source": [
        "### Tools & Topics\n",
        "- Volatility, SleuthKit, bulk_extractor, plaso\n",
        "- Autopsy, Binwalk, Foremost, Steghide\n",
        "- File system analysis, memory capture, timeline reconstruction\n"
      ]
    },
    {
      "cell_type": "markdown",
      "metadata": {},
      "source": [
        "---\n",
        "## 7) Password Cracking\n",
        "Recognize hash formats, use efficient attack techniques, and learn GPU acceleration basics.\n"
      ]
    },
    {
      "cell_type": "markdown",
      "metadata": {},
      "source": [
        "### Hashes & Tools\n",
        "- Common hashes: MD5, SHA-1, SHA-256, NTLM, bcrypt\n",
        "- Tools: Hashcat, John the Ripper, SecLists wordlists\n",
        "- Attack types: dictionary, mask, rule-based, hybrid\n"
      ]
    },
    {
      "cell_type": "markdown",
      "metadata": {},
      "source": [
        "---\n",
        "## 8) Enumeration & Exploitation\n",
        "Understand enumeration and practice common exploit techniques in a safe lab.\n"
      ]
    },
    {
      "cell_type": "markdown",
      "metadata": {},
      "source": [
        "### Key Frameworks\n",
        "- Metasploit, sqlmap, impacket, LinEnum, PowerSploit\n",
        "### Vulnerability Categories\n",
        "- Web, network services, buffer overflows, privilege escalation, binary exploitation\n"
      ]
    },
    {
      "cell_type": "markdown",
      "metadata": {},
      "source": [
        "---\n",
        "## 9) Web Application Security\n",
        "Focus on OWASP Top 10, Burp Suite, and web exploitation practice.\n"
      ]
    },
    {
      "cell_type": "markdown",
      "metadata": {},
      "source": [
        "### Strong Resources\n",
        "- PortSwigger Web Security Academy (highly recommended)\n",
        "- DVWA, WebGoat, HackTheBox, TryHackMe\n"
      ]
    },
    {
      "cell_type": "markdown",
      "metadata": {},
      "source": [
        "---\n",
        "## 12-Week Study Plan (Flexible)\n",
        "**Weeks 1-2:** Foundation + Wireshark Intensive\n",
        "**Weeks 3-4:** Network + Log Analysis\n",
        "**Weeks 5-6:** Web Security + Crypto\n",
        "**Weeks 7-8:** Scanning + Exploitation\n",
        "**Weeks 9-10:** Forensics + OSINT\n",
        "**Weeks 11-12:** Integration \u2014 full CTF practice and final prep\n\n",
        "_Tip: allocate extra time to Wireshark \u2014 that was identified as your competitive advantage._"
      ]
    },
    {
      "cell_type": "code",
      "metadata": {
        "tags": [
          "pyodide-helper"
        ]
      },
      "source": [
        "# Pyodide helper notes\n",
        "# This small cell provides quick guidance when running in a Pyodide environment.\n",
        "import sys\n",
        "print('Python version:', sys.version.split()[0])\n",
        "print('If running in Pyodide, use micropip to install packages, e.g.:')\n",
        "print(\"import micropip; await micropip.install('package')  # in an async cell\")\n",
        "\n",
        "def show_checklist_progress():\n",
        "    \"\"\"A static helper: replace or extend this with JavaScript interop in a browser-based Pyodide session.\n",
        "    For now it simply prints a reminder about using the notebook UI to check boxes.\"\"\"\n",
        "    print('Use the notebook UI to check boxes and track progress. For advanced state, save to your notes app.')\n",
        "\n",
        "show_checklist_progress()\n"
      ],
      "execution_count": null,
      "outputs": []
    },
    {
      "cell_type": "markdown",
      "metadata": {},
      "source": [
        "---\n",
        "### Attribution & Next Steps\n",
        "- Save this notebook in your competition folder.\n",
        "- Link or embed practice PCAPs and reference images in the same directory for easy access.\n",
        "- If you want, I can also produce a condensed printable study sheet or convert this notebook into a PDF-ready layout.\n"
      ]
    }
  ]
}